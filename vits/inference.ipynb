{
 "cells": [
  {
   "cell_type": "code",
   "execution_count": null,
   "metadata": {},
   "outputs": [],
   "source": [
    "\n",
    "import os\n",
    "import torch\n",
    "from torch.utils.data import DataLoader\n",
    "\n",
    "import commons\n",
    "import utils\n",
    "from data_utils import TextAudioLoader, TextAudioCollate, TextAudioSpeakerLoader, TextAudioSpeakerCollate, CustomLoader, CustomCollate\n",
    "from models import SynthesizerTrn\n",
    "from text.symbols import symbols\n",
    "from text import text_to_sequence, _id_to_symbol\n",
    "\n",
    "from scipy.io.wavfile import write\n",
    "\n",
    "\n",
    "def get_text(text, hps):\n",
    "    text_norm = text_to_sequence(text, hps.data.text_cleaners)\n",
    "    if hps.data.add_blank:\n",
    "        text_norm = commons.intersperse(text_norm, 0)\n",
    "    text_norm = torch.LongTensor(text_norm)\n",
    "    return text_norm"
   ]
  },
  {
   "cell_type": "code",
   "execution_count": 9,
   "metadata": {},
   "outputs": [
    {
     "name": "stdout",
     "output_type": "stream",
     "text": [
      "INFO:root:Loaded checkpoint './logs/tokyom/G_1895000.pth' (iteration 11485)\n"
     ]
    }
   ],
   "source": [
    "# 모델 정의\n",
    "from scipy.io import wavfile\n",
    "\n",
    "iter = 1895\n",
    "speakers = 4\n",
    "dir = 'tokyom'\n",
    "os.makedirs(f'./inference/{dir}/{iter}k', exist_ok=True)\n",
    "\n",
    "hps = utils.get_hparams_from_file(f\"./configs/{dir}.json\")\n",
    "\n",
    "net_g = SynthesizerTrn(\n",
    "    len(symbols),\n",
    "    hps.data.filter_length // 2 + 1,\n",
    "    hps.train.segment_size // hps.data.hop_length,\n",
    "    n_speakers=hps.data.n_speakers,\n",
    "    **hps.model).cuda()\n",
    "_ = net_g.eval()\n",
    "\n",
    "_ = utils.load_checkpoint(f\"./logs/{dir}/G_{iter}000.pth\", net_g, None)\n",
    "\n"
   ]
  },
  {
   "cell_type": "code",
   "execution_count": 10,
   "metadata": {},
   "outputs": [],
   "source": [
    "# 일반적인 추론\n",
    "texts = open('./inference.txt', 'r').readlines()\n",
    "speakers = [0, 1, 2, 3]\n",
    "for j, text in enumerate(texts):\n",
    "    stn_tst = get_text(text, hps)\n",
    "    with torch.no_grad():\n",
    "        x_tst = stn_tst.cuda().unsqueeze(0)\n",
    "        x_tst_lengths = torch.LongTensor([stn_tst.size(0)]).cuda()\n",
    "        for i in speakers:\n",
    "            sid = torch.LongTensor([i]).cuda()\n",
    "            audio, attn, mask, *_ = net_g.infer(x_tst, x_tst_lengths, sid=sid, noise_scale=.667, noise_scale_w=0.8, length_scale=1.0)\n",
    "            audio = audio[0, 0].data.cpu().float().numpy()\n",
    "            attn = attn.data.cpu().float().numpy()\n",
    "\n",
    "            wavfile.write(f'./inference/{dir}/{iter}k/{j}_{text[:5]}_{dir}_{iter}k_{i}.wav', hps.data.sampling_rate, audio)"
   ]
  },
  {
   "cell_type": "code",
   "execution_count": 53,
   "metadata": {},
   "outputs": [],
   "source": [
    "# 배치 추론\n",
    "import time\n",
    "\n",
    "texts = open('./inference.txt', 'r').readlines()\n",
    "\n",
    "speaker = 0\n",
    "dataset = CustomLoader(texts, speaker)\n",
    "collate_fn = CustomCollate()\n",
    "loader = DataLoader(dataset, num_workers=1, shuffle=False,\n",
    "        batch_size=4, pin_memory=True,\n",
    "        drop_last=False, collate_fn=collate_fn, prefetch_factor=4)\n",
    "\n",
    "i = 0\n",
    "생성시간 = 0\n",
    "start = time.time()\n",
    "with torch.no_grad():\n",
    "    for x, x_lengths, speakers in loader:\n",
    "        x, x_lengths = x.cuda(0), x_lengths.cuda(0)\n",
    "        speakers = speakers.cuda(0)\n",
    "        audios, attn, mask, w_ceil, *_ = net_g.infer(x, x_lengths, sid=speakers, noise_scale=.667, noise_scale_w=0.8, length_scale=1)\n",
    "        lengths = mask.sum([1,2]).long() * hps.data.hop_length\n",
    "        for audio, length in zip(audios, lengths):\n",
    "            length = length.data.cpu().long().numpy()\n",
    "            audio = audio[0].data.cpu().float().numpy()[:length]\n",
    "            wavfile.write(f'./inference/{dir}/{iter}k/{i}_{dir}_{iter}k_{speaker}.wav', hps.data.sampling_rate, audio)\n",
    "            i += 1\n",
    "end = time.time()\n",
    "생성시간 += end-start\n",
    "\n"
   ]
  },
  {
   "cell_type": "code",
   "execution_count": 3,
   "metadata": {},
   "outputs": [],
   "source": [
    "# textgrid 만들기\n",
    "import textgrid\n",
    "\n",
    "def make_textgrid(path, phones, durations):\n",
    "    times = [0] # seconds\n",
    "    time = 0\n",
    "    for duration in durations:\n",
    "        time += duration.item()/86.1328\n",
    "        times.append(round(time, 5))\n",
    "    minTime = times[0]\n",
    "    maxTime = times[-1]\n",
    "\n",
    "    tg = textgrid.TextGrid(minTime=minTime, maxTime=maxTime)\n",
    "    tg.tiers.append(textgrid.IntervalTier(name='phones'))\n",
    "    for i, phone in enumerate(phones):\n",
    "        phone = _id_to_symbol[phone]\n",
    "        # if times[i] == times[i+1]:\n",
    "        #     times[i+1] += 0.00001\n",
    "        minTime = times[i]\n",
    "        maxTime = times[i+1]\n",
    "\n",
    "        tg.tiers[0].add(minTime=minTime, maxTime=maxTime, mark=phone)\n",
    "    tg.write(path+'.TextGrid')"
   ]
  },
  {
   "cell_type": "code",
   "execution_count": 33,
   "metadata": {},
   "outputs": [],
   "source": [
    "# 길이 조절 1 \n",
    "\n",
    "text = open('./inference.txt', 'r').readline()\n",
    "stn_tst = get_text(text, hps)\n",
    "speaker = 1\n",
    "path = f'./inference/{dir}/{iter}k/{text[:5]}_{dir}_{iter}k_{speaker}'\n",
    "if os.path.isfile(path+'.txt'):\n",
    "    w_target = []\n",
    "    for line in open(path+'.txt', 'r').readlines():\n",
    "        dur = line.split('| ')[-1]\n",
    "        dur = round(float(dur)*86.1328)\n",
    "        w_target.append(dur)\n",
    "    w_target = torch.FloatTensor(w_target).unsqueeze(0).unsqueeze(0).cuda()\n",
    "else:\n",
    "    w_target = None\n",
    "\n",
    "with torch.no_grad():\n",
    "    x_tst = stn_tst.cuda().unsqueeze(0)\n",
    "    x_tst_lengths = torch.LongTensor([stn_tst.size(0)]).cuda()\n",
    "    sid = torch.LongTensor([speaker]).cuda()\n",
    "    audio, attn, mask, w_ceil, *_ = net_g.infer(x_tst, x_tst_lengths, sid=sid, noise_scale=0.667, noise_scale_w=0.8, length_scale=1.0, w_target=w_target)\n",
    "    audio = audio[0, 0].data.cpu().float().numpy()\n",
    "    w_ceil = w_ceil.data.cpu().int().numpy()[0][0]\n",
    "    stn_tst = stn_tst.data.cpu().int().numpy()\n",
    "\n",
    "    wavfile.write(f'./inference/{dir}/{iter}k/{text[:5]}_{dir}_{iter}k_{speaker}.wav', hps.data.sampling_rate, audio)\n",
    "\n",
    "p = f'./inference/{dir}/{iter}k/{text[:5]}_{dir}_{iter}k_{speaker}'\n",
    "make_textgrid(p, stn_tst, w_ceil)"
   ]
  },
  {
   "cell_type": "code",
   "execution_count": 31,
   "metadata": {},
   "outputs": [],
   "source": [
    "# 길이 조절 2 [길이 정보 파일 만들기]\n",
    "\n",
    "path = f'./inference/{dir}/{iter}k/{text[:5]}_{dir}_{iter}k_{speaker}'\n",
    "\n",
    "with open(f'{path}.txt', 'w') as f:\n",
    "    for s, d in zip(stn_tst, w_ceil):\n",
    "        p = _id_to_symbol[s]\n",
    "        dur = round(d/86.1328, 3)\n",
    "        information = f'{p} : {dur} | {dur}\\n'\n",
    "        f.write(information)\n",
    "        "
   ]
  },
  {
   "cell_type": "markdown",
   "metadata": {},
   "source": [
    "### Voice Conversion"
   ]
  },
  {
   "cell_type": "code",
   "execution_count": null,
   "metadata": {},
   "outputs": [],
   "source": [
    "dataset = TextAudioSpeakerLoader(hps.data.validation_files, hps.data)\n",
    "collate_fn = TextAudioSpeakerCollate()\n",
    "loader = DataLoader(dataset, num_workers=8, shuffle=False,\n",
    "    batch_size=1, pin_memory=True,\n",
    "    drop_last=True, collate_fn=collate_fn)\n",
    "data_list = list(loader)"
   ]
  },
  {
   "cell_type": "code",
   "execution_count": null,
   "metadata": {},
   "outputs": [],
   "source": [
    "with torch.no_grad():\n",
    "    x, x_lengths, spec, spec_lengths, y, y_lengths, sid_src = [x.cuda() for x in data_list[0]]\n",
    "    sid_tgt1 = torch.LongTensor([1]).cuda()\n",
    "    sid_tgt2 = torch.LongTensor([2]).cuda()\n",
    "    sid_tgt3 = torch.LongTensor([4]).cuda()\n",
    "    audio1 = net_g.voice_conversion(spec, spec_lengths, sid_src=sid_src, sid_tgt=sid_tgt1)[0][0,0].data.cpu().float().numpy()\n",
    "    audio2 = net_g.voice_conversion(spec, spec_lengths, sid_src=sid_src, sid_tgt=sid_tgt2)[0][0,0].data.cpu().float().numpy()\n",
    "    audio3 = net_g.voice_conversion(spec, spec_lengths, sid_src=sid_src, sid_tgt=sid_tgt3)[0][0,0].data.cpu().float().numpy()\n",
    "print(\"Original SID: %d\" % sid_src.item())\n",
    "ipd.display(ipd.Audio(y[0].cpu().numpy(), rate=hps.data.sampling_rate, normalize=False))\n",
    "print(\"Converted SID: %d\" % sid_tgt1.item())\n",
    "ipd.display(ipd.Audio(audio1, rate=hps.data.sampling_rate, normalize=False))\n",
    "print(\"Converted SID: %d\" % sid_tgt2.item())\n",
    "ipd.display(ipd.Audio(audio2, rate=hps.data.sampling_rate, normalize=False))\n",
    "print(\"Converted SID: %d\" % sid_tgt3.item())\n",
    "ipd.display(ipd.Audio(audio3, rate=hps.data.sampling_rate, normalize=False))"
   ]
  }
 ],
 "metadata": {
  "interpreter": {
   "hash": "83b0a9d07090253abdf8ba01fd0d77e08efae2ea0f8f1a24e6f2869605ef9f76"
  },
  "kernelspec": {
   "display_name": "vits",
   "language": "python",
   "name": "vits"
  },
  "language_info": {
   "codemirror_mode": {
    "name": "ipython",
    "version": 3
   },
   "file_extension": ".py",
   "mimetype": "text/x-python",
   "name": "python",
   "nbconvert_exporter": "python",
   "pygments_lexer": "ipython3",
   "version": "3.7.12"
  }
 },
 "nbformat": 4,
 "nbformat_minor": 4
}
